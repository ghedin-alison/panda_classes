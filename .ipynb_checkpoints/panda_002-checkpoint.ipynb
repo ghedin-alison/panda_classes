{
 "cells": [
  {
   "cell_type": "code",
   "execution_count": 1,
   "metadata": {},
   "outputs": [],
   "source": [
    "# Aula 002"
   ]
  },
  {
   "cell_type": "code",
   "execution_count": 2,
   "metadata": {},
   "outputs": [],
   "source": [
    "# import de bibliotecas\n",
    "import numpy as np\n",
    "import pandas as pd"
   ]
  },
  {
   "cell_type": "code",
   "execution_count": 4,
   "metadata": {},
   "outputs": [
    {
     "data": {
      "text/plain": [
       "DatetimeIndex(['2020-11-30', '2020-12-01', '2020-12-02', '2020-12-03',\n",
       "               '2020-12-04', '2020-12-05'],\n",
       "              dtype='datetime64[ns]', freq='D')"
      ]
     },
     "execution_count": 4,
     "metadata": {},
     "output_type": "execute_result"
    }
   ],
   "source": [
    "dates = pd.date_range('20201130', periods = 6)\n",
    "dates"
   ]
  },
  {
   "cell_type": "code",
   "execution_count": 5,
   "metadata": {},
   "outputs": [
    {
     "data": {
      "text/html": [
       "<div>\n",
       "<style scoped>\n",
       "    .dataframe tbody tr th:only-of-type {\n",
       "        vertical-align: middle;\n",
       "    }\n",
       "\n",
       "    .dataframe tbody tr th {\n",
       "        vertical-align: top;\n",
       "    }\n",
       "\n",
       "    .dataframe thead th {\n",
       "        text-align: right;\n",
       "    }\n",
       "</style>\n",
       "<table border=\"1\" class=\"dataframe\">\n",
       "  <thead>\n",
       "    <tr style=\"text-align: right;\">\n",
       "      <th></th>\n",
       "      <th>A</th>\n",
       "      <th>B</th>\n",
       "      <th>C</th>\n",
       "      <th>D</th>\n",
       "    </tr>\n",
       "  </thead>\n",
       "  <tbody>\n",
       "    <tr>\n",
       "      <th>2020-11-30</th>\n",
       "      <td>0.580483</td>\n",
       "      <td>-0.255829</td>\n",
       "      <td>2.816224</td>\n",
       "      <td>-0.502759</td>\n",
       "    </tr>\n",
       "    <tr>\n",
       "      <th>2020-12-01</th>\n",
       "      <td>-0.001450</td>\n",
       "      <td>-0.295149</td>\n",
       "      <td>0.115832</td>\n",
       "      <td>0.644074</td>\n",
       "    </tr>\n",
       "    <tr>\n",
       "      <th>2020-12-02</th>\n",
       "      <td>0.979318</td>\n",
       "      <td>0.656369</td>\n",
       "      <td>-0.045708</td>\n",
       "      <td>0.207883</td>\n",
       "    </tr>\n",
       "    <tr>\n",
       "      <th>2020-12-03</th>\n",
       "      <td>-1.314660</td>\n",
       "      <td>-0.753335</td>\n",
       "      <td>0.037076</td>\n",
       "      <td>-2.024365</td>\n",
       "    </tr>\n",
       "    <tr>\n",
       "      <th>2020-12-04</th>\n",
       "      <td>0.179981</td>\n",
       "      <td>-1.077448</td>\n",
       "      <td>-0.116460</td>\n",
       "      <td>-1.004184</td>\n",
       "    </tr>\n",
       "    <tr>\n",
       "      <th>2020-12-05</th>\n",
       "      <td>0.356974</td>\n",
       "      <td>0.035535</td>\n",
       "      <td>0.814699</td>\n",
       "      <td>0.431980</td>\n",
       "    </tr>\n",
       "  </tbody>\n",
       "</table>\n",
       "</div>"
      ],
      "text/plain": [
       "                   A         B         C         D\n",
       "2020-11-30  0.580483 -0.255829  2.816224 -0.502759\n",
       "2020-12-01 -0.001450 -0.295149  0.115832  0.644074\n",
       "2020-12-02  0.979318  0.656369 -0.045708  0.207883\n",
       "2020-12-03 -1.314660 -0.753335  0.037076 -2.024365\n",
       "2020-12-04  0.179981 -1.077448 -0.116460 -1.004184\n",
       "2020-12-05  0.356974  0.035535  0.814699  0.431980"
      ]
     },
     "execution_count": 5,
     "metadata": {},
     "output_type": "execute_result"
    }
   ],
   "source": [
    "# Criando um dataframe randomico\n",
    "df = pd.DataFrame(np.random.randn(6,4), index = dates, columns = list('ABCD'))\n",
    "df"
   ]
  },
  {
   "cell_type": "code",
   "execution_count": 11,
   "metadata": {},
   "outputs": [
    {
     "data": {
      "text/html": [
       "<div>\n",
       "<style scoped>\n",
       "    .dataframe tbody tr th:only-of-type {\n",
       "        vertical-align: middle;\n",
       "    }\n",
       "\n",
       "    .dataframe tbody tr th {\n",
       "        vertical-align: top;\n",
       "    }\n",
       "\n",
       "    .dataframe thead th {\n",
       "        text-align: right;\n",
       "    }\n",
       "</style>\n",
       "<table border=\"1\" class=\"dataframe\">\n",
       "  <thead>\n",
       "    <tr style=\"text-align: right;\">\n",
       "      <th></th>\n",
       "      <th>A</th>\n",
       "      <th>C</th>\n",
       "    </tr>\n",
       "  </thead>\n",
       "  <tbody>\n",
       "    <tr>\n",
       "      <th>2020-11-30</th>\n",
       "      <td>0.580483</td>\n",
       "      <td>2.816224</td>\n",
       "    </tr>\n",
       "    <tr>\n",
       "      <th>2020-12-01</th>\n",
       "      <td>-0.001450</td>\n",
       "      <td>0.115832</td>\n",
       "    </tr>\n",
       "    <tr>\n",
       "      <th>2020-12-02</th>\n",
       "      <td>0.979318</td>\n",
       "      <td>-0.045708</td>\n",
       "    </tr>\n",
       "    <tr>\n",
       "      <th>2020-12-03</th>\n",
       "      <td>-1.314660</td>\n",
       "      <td>0.037076</td>\n",
       "    </tr>\n",
       "    <tr>\n",
       "      <th>2020-12-04</th>\n",
       "      <td>0.179981</td>\n",
       "      <td>-0.116460</td>\n",
       "    </tr>\n",
       "    <tr>\n",
       "      <th>2020-12-05</th>\n",
       "      <td>0.356974</td>\n",
       "      <td>0.814699</td>\n",
       "    </tr>\n",
       "  </tbody>\n",
       "</table>\n",
       "</div>"
      ],
      "text/plain": [
       "                   A         C\n",
       "2020-11-30  0.580483  2.816224\n",
       "2020-12-01 -0.001450  0.115832\n",
       "2020-12-02  0.979318 -0.045708\n",
       "2020-12-03 -1.314660  0.037076\n",
       "2020-12-04  0.179981 -0.116460\n",
       "2020-12-05  0.356974  0.814699"
      ]
     },
     "execution_count": 11,
     "metadata": {},
     "output_type": "execute_result"
    }
   ],
   "source": [
    "# selecionando colunas\n",
    "df.loc[:, ['A', 'C']]"
   ]
  },
  {
   "cell_type": "code",
   "execution_count": 16,
   "metadata": {},
   "outputs": [
    {
     "data": {
      "text/plain": [
       "2020-11-30    1.0\n",
       "2020-12-01    2.0\n",
       "2020-12-02    NaN\n",
       "2020-12-03    4.0\n",
       "2020-12-04    NaN\n",
       "2020-12-05    6.0\n",
       "Freq: D, dtype: float64"
      ]
     },
     "execution_count": 16,
     "metadata": {},
     "output_type": "execute_result"
    }
   ],
   "source": [
    "# criar nova serie\n",
    "s = pd.Series([1, 2, np.nan, 4, np.nan, 6], index = dates)\n",
    "s"
   ]
  },
  {
   "cell_type": "code",
   "execution_count": 17,
   "metadata": {},
   "outputs": [
    {
     "data": {
      "text/html": [
       "<div>\n",
       "<style scoped>\n",
       "    .dataframe tbody tr th:only-of-type {\n",
       "        vertical-align: middle;\n",
       "    }\n",
       "\n",
       "    .dataframe tbody tr th {\n",
       "        vertical-align: top;\n",
       "    }\n",
       "\n",
       "    .dataframe thead th {\n",
       "        text-align: right;\n",
       "    }\n",
       "</style>\n",
       "<table border=\"1\" class=\"dataframe\">\n",
       "  <thead>\n",
       "    <tr style=\"text-align: right;\">\n",
       "      <th></th>\n",
       "      <th>A</th>\n",
       "      <th>B</th>\n",
       "      <th>C</th>\n",
       "      <th>D</th>\n",
       "      <th>E</th>\n",
       "    </tr>\n",
       "  </thead>\n",
       "  <tbody>\n",
       "    <tr>\n",
       "      <th>2020-11-30</th>\n",
       "      <td>0.580483</td>\n",
       "      <td>-0.255829</td>\n",
       "      <td>2.816224</td>\n",
       "      <td>-0.502759</td>\n",
       "      <td>1.0</td>\n",
       "    </tr>\n",
       "    <tr>\n",
       "      <th>2020-12-01</th>\n",
       "      <td>-0.001450</td>\n",
       "      <td>-0.295149</td>\n",
       "      <td>0.115832</td>\n",
       "      <td>0.644074</td>\n",
       "      <td>2.0</td>\n",
       "    </tr>\n",
       "    <tr>\n",
       "      <th>2020-12-02</th>\n",
       "      <td>0.979318</td>\n",
       "      <td>0.656369</td>\n",
       "      <td>-0.045708</td>\n",
       "      <td>0.207883</td>\n",
       "      <td>NaN</td>\n",
       "    </tr>\n",
       "    <tr>\n",
       "      <th>2020-12-03</th>\n",
       "      <td>-1.314660</td>\n",
       "      <td>-0.753335</td>\n",
       "      <td>0.037076</td>\n",
       "      <td>-2.024365</td>\n",
       "      <td>4.0</td>\n",
       "    </tr>\n",
       "    <tr>\n",
       "      <th>2020-12-04</th>\n",
       "      <td>0.179981</td>\n",
       "      <td>-1.077448</td>\n",
       "      <td>-0.116460</td>\n",
       "      <td>-1.004184</td>\n",
       "      <td>NaN</td>\n",
       "    </tr>\n",
       "    <tr>\n",
       "      <th>2020-12-05</th>\n",
       "      <td>0.356974</td>\n",
       "      <td>0.035535</td>\n",
       "      <td>0.814699</td>\n",
       "      <td>0.431980</td>\n",
       "      <td>6.0</td>\n",
       "    </tr>\n",
       "  </tbody>\n",
       "</table>\n",
       "</div>"
      ],
      "text/plain": [
       "                   A         B         C         D    E\n",
       "2020-11-30  0.580483 -0.255829  2.816224 -0.502759  1.0\n",
       "2020-12-01 -0.001450 -0.295149  0.115832  0.644074  2.0\n",
       "2020-12-02  0.979318  0.656369 -0.045708  0.207883  NaN\n",
       "2020-12-03 -1.314660 -0.753335  0.037076 -2.024365  4.0\n",
       "2020-12-04  0.179981 -1.077448 -0.116460 -1.004184  NaN\n",
       "2020-12-05  0.356974  0.035535  0.814699  0.431980  6.0"
      ]
     },
     "execution_count": 17,
     "metadata": {},
     "output_type": "execute_result"
    }
   ],
   "source": [
    "# indexando uma serie com coluna\n",
    "df['E'] = s\n",
    "df"
   ]
  },
  {
   "cell_type": "code",
   "execution_count": 20,
   "metadata": {},
   "outputs": [
    {
     "data": {
      "text/html": [
       "<div>\n",
       "<style scoped>\n",
       "    .dataframe tbody tr th:only-of-type {\n",
       "        vertical-align: middle;\n",
       "    }\n",
       "\n",
       "    .dataframe tbody tr th {\n",
       "        vertical-align: top;\n",
       "    }\n",
       "\n",
       "    .dataframe thead th {\n",
       "        text-align: right;\n",
       "    }\n",
       "</style>\n",
       "<table border=\"1\" class=\"dataframe\">\n",
       "  <thead>\n",
       "    <tr style=\"text-align: right;\">\n",
       "      <th></th>\n",
       "      <th>A</th>\n",
       "      <th>B</th>\n",
       "      <th>C</th>\n",
       "      <th>D</th>\n",
       "      <th>E</th>\n",
       "      <th>F</th>\n",
       "    </tr>\n",
       "  </thead>\n",
       "  <tbody>\n",
       "    <tr>\n",
       "      <th>2020-11-30</th>\n",
       "      <td>0.580483</td>\n",
       "      <td>-0.255829</td>\n",
       "      <td>2.816224</td>\n",
       "      <td>-0.502759</td>\n",
       "      <td>1.0</td>\n",
       "      <td>9</td>\n",
       "    </tr>\n",
       "    <tr>\n",
       "      <th>2020-12-01</th>\n",
       "      <td>-0.001450</td>\n",
       "      <td>-0.295149</td>\n",
       "      <td>0.115832</td>\n",
       "      <td>0.644074</td>\n",
       "      <td>2.0</td>\n",
       "      <td>9</td>\n",
       "    </tr>\n",
       "    <tr>\n",
       "      <th>2020-12-02</th>\n",
       "      <td>0.979318</td>\n",
       "      <td>0.656369</td>\n",
       "      <td>-0.045708</td>\n",
       "      <td>0.207883</td>\n",
       "      <td>NaN</td>\n",
       "      <td>9</td>\n",
       "    </tr>\n",
       "    <tr>\n",
       "      <th>2020-12-03</th>\n",
       "      <td>-1.314660</td>\n",
       "      <td>-0.753335</td>\n",
       "      <td>0.037076</td>\n",
       "      <td>-2.024365</td>\n",
       "      <td>4.0</td>\n",
       "      <td>9</td>\n",
       "    </tr>\n",
       "    <tr>\n",
       "      <th>2020-12-04</th>\n",
       "      <td>0.179981</td>\n",
       "      <td>-1.077448</td>\n",
       "      <td>-0.116460</td>\n",
       "      <td>-1.004184</td>\n",
       "      <td>NaN</td>\n",
       "      <td>9</td>\n",
       "    </tr>\n",
       "    <tr>\n",
       "      <th>2020-12-05</th>\n",
       "      <td>0.356974</td>\n",
       "      <td>0.035535</td>\n",
       "      <td>0.814699</td>\n",
       "      <td>0.431980</td>\n",
       "      <td>6.0</td>\n",
       "      <td>9</td>\n",
       "    </tr>\n",
       "  </tbody>\n",
       "</table>\n",
       "</div>"
      ],
      "text/plain": [
       "                   A         B         C         D    E  F\n",
       "2020-11-30  0.580483 -0.255829  2.816224 -0.502759  1.0  9\n",
       "2020-12-01 -0.001450 -0.295149  0.115832  0.644074  2.0  9\n",
       "2020-12-02  0.979318  0.656369 -0.045708  0.207883  NaN  9\n",
       "2020-12-03 -1.314660 -0.753335  0.037076 -2.024365  4.0  9\n",
       "2020-12-04  0.179981 -1.077448 -0.116460 -1.004184  NaN  9\n",
       "2020-12-05  0.356974  0.035535  0.814699  0.431980  6.0  9"
      ]
     },
     "execution_count": 20,
     "metadata": {},
     "output_type": "execute_result"
    }
   ],
   "source": [
    "# criando uma nova coluna com numpy e numero fixo\n",
    "df['F'] = np.array([9] * len(df))\n",
    "df"
   ]
  },
  {
   "cell_type": "code",
   "execution_count": 25,
   "metadata": {},
   "outputs": [],
   "source": [
    "# preencher valores NaN com 1.98\n",
    "df1 = df.fillna(value=1.98)"
   ]
  },
  {
   "cell_type": "code",
   "execution_count": 26,
   "metadata": {},
   "outputs": [
    {
     "data": {
      "text/html": [
       "<div>\n",
       "<style scoped>\n",
       "    .dataframe tbody tr th:only-of-type {\n",
       "        vertical-align: middle;\n",
       "    }\n",
       "\n",
       "    .dataframe tbody tr th {\n",
       "        vertical-align: top;\n",
       "    }\n",
       "\n",
       "    .dataframe thead th {\n",
       "        text-align: right;\n",
       "    }\n",
       "</style>\n",
       "<table border=\"1\" class=\"dataframe\">\n",
       "  <thead>\n",
       "    <tr style=\"text-align: right;\">\n",
       "      <th></th>\n",
       "      <th>A</th>\n",
       "      <th>B</th>\n",
       "      <th>C</th>\n",
       "      <th>D</th>\n",
       "      <th>E</th>\n",
       "      <th>F</th>\n",
       "    </tr>\n",
       "  </thead>\n",
       "  <tbody>\n",
       "    <tr>\n",
       "      <th>2020-11-30</th>\n",
       "      <td>0.580483</td>\n",
       "      <td>-0.255829</td>\n",
       "      <td>2.816224</td>\n",
       "      <td>-0.502759</td>\n",
       "      <td>1.00</td>\n",
       "      <td>9</td>\n",
       "    </tr>\n",
       "    <tr>\n",
       "      <th>2020-12-01</th>\n",
       "      <td>-0.001450</td>\n",
       "      <td>-0.295149</td>\n",
       "      <td>0.115832</td>\n",
       "      <td>0.644074</td>\n",
       "      <td>2.00</td>\n",
       "      <td>9</td>\n",
       "    </tr>\n",
       "    <tr>\n",
       "      <th>2020-12-02</th>\n",
       "      <td>0.979318</td>\n",
       "      <td>0.656369</td>\n",
       "      <td>-0.045708</td>\n",
       "      <td>0.207883</td>\n",
       "      <td>1.98</td>\n",
       "      <td>9</td>\n",
       "    </tr>\n",
       "    <tr>\n",
       "      <th>2020-12-03</th>\n",
       "      <td>-1.314660</td>\n",
       "      <td>-0.753335</td>\n",
       "      <td>0.037076</td>\n",
       "      <td>-2.024365</td>\n",
       "      <td>4.00</td>\n",
       "      <td>9</td>\n",
       "    </tr>\n",
       "    <tr>\n",
       "      <th>2020-12-04</th>\n",
       "      <td>0.179981</td>\n",
       "      <td>-1.077448</td>\n",
       "      <td>-0.116460</td>\n",
       "      <td>-1.004184</td>\n",
       "      <td>1.98</td>\n",
       "      <td>9</td>\n",
       "    </tr>\n",
       "    <tr>\n",
       "      <th>2020-12-05</th>\n",
       "      <td>0.356974</td>\n",
       "      <td>0.035535</td>\n",
       "      <td>0.814699</td>\n",
       "      <td>0.431980</td>\n",
       "      <td>6.00</td>\n",
       "      <td>9</td>\n",
       "    </tr>\n",
       "  </tbody>\n",
       "</table>\n",
       "</div>"
      ],
      "text/plain": [
       "                   A         B         C         D     E  F\n",
       "2020-11-30  0.580483 -0.255829  2.816224 -0.502759  1.00  9\n",
       "2020-12-01 -0.001450 -0.295149  0.115832  0.644074  2.00  9\n",
       "2020-12-02  0.979318  0.656369 -0.045708  0.207883  1.98  9\n",
       "2020-12-03 -1.314660 -0.753335  0.037076 -2.024365  4.00  9\n",
       "2020-12-04  0.179981 -1.077448 -0.116460 -1.004184  1.98  9\n",
       "2020-12-05  0.356974  0.035535  0.814699  0.431980  6.00  9"
      ]
     },
     "execution_count": 26,
     "metadata": {},
     "output_type": "execute_result"
    }
   ],
   "source": [
    "df1"
   ]
  },
  {
   "cell_type": "code",
   "execution_count": 28,
   "metadata": {},
   "outputs": [
    {
     "data": {
      "text/plain": [
       "A    2.293978\n",
       "B    1.733817\n",
       "C    2.932684\n",
       "D    2.668439\n",
       "E    5.000000\n",
       "F    0.000000\n",
       "dtype: float64"
      ]
     },
     "execution_count": 28,
     "metadata": {},
     "output_type": "execute_result"
    }
   ],
   "source": [
    "# Aplicando uma função que faz o máximo menos o minimo\n",
    "df1.apply(lambda x: x.max() - x.min())"
   ]
  },
  {
   "cell_type": "code",
   "execution_count": 35,
   "metadata": {},
   "outputs": [
    {
     "data": {
      "text/plain": [
       "A     0.780645\n",
       "B    -1.689857\n",
       "C     3.621663\n",
       "D    -2.247370\n",
       "E    16.960000\n",
       "F    54.000000\n",
       "dtype: float64"
      ]
     },
     "execution_count": 35,
     "metadata": {},
     "output_type": "execute_result"
    }
   ],
   "source": [
    "# Sumariza as colunas\n",
    "df1.sum()"
   ]
  },
  {
   "cell_type": "code",
   "execution_count": 40,
   "metadata": {},
   "outputs": [
    {
     "data": {
      "text/plain": [
       "2020-11-30    12.638118\n",
       "2020-12-01    11.463307\n",
       "2020-12-02    10.797862\n",
       "2020-12-03     8.944715\n",
       "2020-12-04     6.981890\n",
       "2020-12-05    16.639189\n",
       "Freq: D, dtype: float64"
      ]
     },
     "execution_count": 40,
     "metadata": {},
     "output_type": "execute_result"
    }
   ],
   "source": [
    "# Sumariza as linhas\n",
    "df.sum(1)"
   ]
  },
  {
   "cell_type": "code",
   "execution_count": 41,
   "metadata": {},
   "outputs": [
    {
     "data": {
      "text/html": [
       "<div>\n",
       "<style scoped>\n",
       "    .dataframe tbody tr th:only-of-type {\n",
       "        vertical-align: middle;\n",
       "    }\n",
       "\n",
       "    .dataframe tbody tr th {\n",
       "        vertical-align: top;\n",
       "    }\n",
       "\n",
       "    .dataframe thead th {\n",
       "        text-align: right;\n",
       "    }\n",
       "</style>\n",
       "<table border=\"1\" class=\"dataframe\">\n",
       "  <thead>\n",
       "    <tr style=\"text-align: right;\">\n",
       "      <th></th>\n",
       "      <th>A</th>\n",
       "      <th>B</th>\n",
       "      <th>C</th>\n",
       "      <th>D</th>\n",
       "      <th>E</th>\n",
       "      <th>F</th>\n",
       "    </tr>\n",
       "  </thead>\n",
       "  <tbody>\n",
       "    <tr>\n",
       "      <th>2020-11-30</th>\n",
       "      <td>0.580483</td>\n",
       "      <td>-0.255829</td>\n",
       "      <td>2.816224</td>\n",
       "      <td>-0.502759</td>\n",
       "      <td>1.00</td>\n",
       "      <td>9</td>\n",
       "    </tr>\n",
       "    <tr>\n",
       "      <th>2020-12-01</th>\n",
       "      <td>0.579033</td>\n",
       "      <td>-0.550979</td>\n",
       "      <td>2.932056</td>\n",
       "      <td>0.141315</td>\n",
       "      <td>3.00</td>\n",
       "      <td>18</td>\n",
       "    </tr>\n",
       "    <tr>\n",
       "      <th>2020-12-02</th>\n",
       "      <td>1.558351</td>\n",
       "      <td>0.105391</td>\n",
       "      <td>2.886348</td>\n",
       "      <td>0.349197</td>\n",
       "      <td>4.98</td>\n",
       "      <td>27</td>\n",
       "    </tr>\n",
       "    <tr>\n",
       "      <th>2020-12-03</th>\n",
       "      <td>0.243690</td>\n",
       "      <td>-0.647945</td>\n",
       "      <td>2.923424</td>\n",
       "      <td>-1.675167</td>\n",
       "      <td>8.98</td>\n",
       "      <td>36</td>\n",
       "    </tr>\n",
       "    <tr>\n",
       "      <th>2020-12-04</th>\n",
       "      <td>0.423672</td>\n",
       "      <td>-1.725392</td>\n",
       "      <td>2.806964</td>\n",
       "      <td>-2.679351</td>\n",
       "      <td>10.96</td>\n",
       "      <td>45</td>\n",
       "    </tr>\n",
       "    <tr>\n",
       "      <th>2020-12-05</th>\n",
       "      <td>0.780645</td>\n",
       "      <td>-1.689857</td>\n",
       "      <td>3.621663</td>\n",
       "      <td>-2.247370</td>\n",
       "      <td>16.96</td>\n",
       "      <td>54</td>\n",
       "    </tr>\n",
       "  </tbody>\n",
       "</table>\n",
       "</div>"
      ],
      "text/plain": [
       "                   A         B         C         D      E   F\n",
       "2020-11-30  0.580483 -0.255829  2.816224 -0.502759   1.00   9\n",
       "2020-12-01  0.579033 -0.550979  2.932056  0.141315   3.00  18\n",
       "2020-12-02  1.558351  0.105391  2.886348  0.349197   4.98  27\n",
       "2020-12-03  0.243690 -0.647945  2.923424 -1.675167   8.98  36\n",
       "2020-12-04  0.423672 -1.725392  2.806964 -2.679351  10.96  45\n",
       "2020-12-05  0.780645 -1.689857  3.621663 -2.247370  16.96  54"
      ]
     },
     "execution_count": 41,
     "metadata": {},
     "output_type": "execute_result"
    }
   ],
   "source": [
    "# refaz a matriz, acumulando valores\n",
    "df1.apply(np.cumsum)"
   ]
  },
  {
   "cell_type": "code",
   "execution_count": 42,
   "metadata": {},
   "outputs": [],
   "source": [
    "# Criar uma tupla\n",
    "tuples = list(zip(*[['bar', 'bar', 'baz', 'baz',\n",
    "                     'foo', 'foo', 'qux', 'qux'],\n",
    "                    ['one', 'two', 'one', 'two',\n",
    "                     'one', 'two', 'one', 'two']]))"
   ]
  },
  {
   "cell_type": "code",
   "execution_count": 43,
   "metadata": {},
   "outputs": [
    {
     "data": {
      "text/plain": [
       "[('bar', 'one'),\n",
       " ('bar', 'two'),\n",
       " ('baz', 'one'),\n",
       " ('baz', 'two'),\n",
       " ('foo', 'one'),\n",
       " ('foo', 'two'),\n",
       " ('qux', 'one'),\n",
       " ('qux', 'two')]"
      ]
     },
     "execution_count": 43,
     "metadata": {},
     "output_type": "execute_result"
    }
   ],
   "source": [
    "tuples"
   ]
  },
  {
   "cell_type": "code",
   "execution_count": 45,
   "metadata": {},
   "outputs": [
    {
     "data": {
      "text/plain": [
       "MultiIndex([('bar', 'one'),\n",
       "            ('bar', 'two'),\n",
       "            ('baz', 'one'),\n",
       "            ('baz', 'two'),\n",
       "            ('foo', 'one'),\n",
       "            ('foo', 'two'),\n",
       "            ('qux', 'one'),\n",
       "            ('qux', 'two')],\n",
       "           names=['primeiro', 'segundo'])"
      ]
     },
     "execution_count": 45,
     "metadata": {},
     "output_type": "execute_result"
    }
   ],
   "source": [
    "# indexar a tupla\n",
    "index = pd.MultiIndex.from_tuples(tuples, names=['primeiro', 'segundo'])\n",
    "index"
   ]
  },
  {
   "cell_type": "code",
   "execution_count": 47,
   "metadata": {},
   "outputs": [
    {
     "data": {
      "text/html": [
       "<div>\n",
       "<style scoped>\n",
       "    .dataframe tbody tr th:only-of-type {\n",
       "        vertical-align: middle;\n",
       "    }\n",
       "\n",
       "    .dataframe tbody tr th {\n",
       "        vertical-align: top;\n",
       "    }\n",
       "\n",
       "    .dataframe thead th {\n",
       "        text-align: right;\n",
       "    }\n",
       "</style>\n",
       "<table border=\"1\" class=\"dataframe\">\n",
       "  <thead>\n",
       "    <tr style=\"text-align: right;\">\n",
       "      <th></th>\n",
       "      <th></th>\n",
       "      <th>A</th>\n",
       "      <th>B</th>\n",
       "    </tr>\n",
       "    <tr>\n",
       "      <th>primeiro</th>\n",
       "      <th>segundo</th>\n",
       "      <th></th>\n",
       "      <th></th>\n",
       "    </tr>\n",
       "  </thead>\n",
       "  <tbody>\n",
       "    <tr>\n",
       "      <th rowspan=\"2\" valign=\"top\">bar</th>\n",
       "      <th>one</th>\n",
       "      <td>-0.457245</td>\n",
       "      <td>0.987055</td>\n",
       "    </tr>\n",
       "    <tr>\n",
       "      <th>two</th>\n",
       "      <td>0.517845</td>\n",
       "      <td>-0.862467</td>\n",
       "    </tr>\n",
       "    <tr>\n",
       "      <th rowspan=\"2\" valign=\"top\">baz</th>\n",
       "      <th>one</th>\n",
       "      <td>0.111652</td>\n",
       "      <td>-1.012069</td>\n",
       "    </tr>\n",
       "    <tr>\n",
       "      <th>two</th>\n",
       "      <td>0.127792</td>\n",
       "      <td>-0.803913</td>\n",
       "    </tr>\n",
       "    <tr>\n",
       "      <th>foo</th>\n",
       "      <th>one</th>\n",
       "      <td>0.778990</td>\n",
       "      <td>-1.318359</td>\n",
       "    </tr>\n",
       "  </tbody>\n",
       "</table>\n",
       "</div>"
      ],
      "text/plain": [
       "                         A         B\n",
       "primeiro segundo                    \n",
       "bar      one     -0.457245  0.987055\n",
       "         two      0.517845 -0.862467\n",
       "baz      one      0.111652 -1.012069\n",
       "         two      0.127792 -0.803913\n",
       "foo      one      0.778990 -1.318359"
      ]
     },
     "execution_count": 47,
     "metadata": {},
     "output_type": "execute_result"
    }
   ],
   "source": [
    "# criando o dataframe\n",
    "df = pd.DataFrame(np.random.randn(8, 2), index = index, columns = ['A', 'B'])\n",
    "df.head()"
   ]
  },
  {
   "cell_type": "code",
   "execution_count": 49,
   "metadata": {},
   "outputs": [
    {
     "data": {
      "text/plain": [
       "(8, 2)"
      ]
     },
     "execution_count": 49,
     "metadata": {},
     "output_type": "execute_result"
    }
   ],
   "source": [
    "df.shape"
   ]
  },
  {
   "cell_type": "code",
   "execution_count": 51,
   "metadata": {},
   "outputs": [
    {
     "data": {
      "text/plain": [
       "primeiro  segundo   \n",
       "bar       one      A   -0.457245\n",
       "                   B    0.987055\n",
       "          two      A    0.517845\n",
       "                   B   -0.862467\n",
       "baz       one      A    0.111652\n",
       "                   B   -1.012069\n",
       "          two      A    0.127792\n",
       "                   B   -0.803913\n",
       "foo       one      A    0.778990\n",
       "                   B   -1.318359\n",
       "          two      A   -2.242985\n",
       "                   B    0.145137\n",
       "qux       one      A    1.891695\n",
       "                   B   -1.465361\n",
       "          two      A   -1.173463\n",
       "                   B   -1.717235\n",
       "dtype: float64"
      ]
     },
     "execution_count": 51,
     "metadata": {},
     "output_type": "execute_result"
    }
   ],
   "source": [
    "# Empilhar colunas\n",
    "stacked = df.stack()\n",
    "stacked"
   ]
  },
  {
   "cell_type": "code",
   "execution_count": 53,
   "metadata": {},
   "outputs": [
    {
     "data": {
      "text/html": [
       "<div>\n",
       "<style scoped>\n",
       "    .dataframe tbody tr th:only-of-type {\n",
       "        vertical-align: middle;\n",
       "    }\n",
       "\n",
       "    .dataframe tbody tr th {\n",
       "        vertical-align: top;\n",
       "    }\n",
       "\n",
       "    .dataframe thead th {\n",
       "        text-align: right;\n",
       "    }\n",
       "</style>\n",
       "<table border=\"1\" class=\"dataframe\">\n",
       "  <thead>\n",
       "    <tr style=\"text-align: right;\">\n",
       "      <th></th>\n",
       "      <th></th>\n",
       "      <th>A</th>\n",
       "      <th>B</th>\n",
       "    </tr>\n",
       "    <tr>\n",
       "      <th>primeiro</th>\n",
       "      <th>segundo</th>\n",
       "      <th></th>\n",
       "      <th></th>\n",
       "    </tr>\n",
       "  </thead>\n",
       "  <tbody>\n",
       "    <tr>\n",
       "      <th rowspan=\"2\" valign=\"top\">bar</th>\n",
       "      <th>one</th>\n",
       "      <td>-0.457245</td>\n",
       "      <td>0.987055</td>\n",
       "    </tr>\n",
       "    <tr>\n",
       "      <th>two</th>\n",
       "      <td>0.517845</td>\n",
       "      <td>-0.862467</td>\n",
       "    </tr>\n",
       "    <tr>\n",
       "      <th rowspan=\"2\" valign=\"top\">baz</th>\n",
       "      <th>one</th>\n",
       "      <td>0.111652</td>\n",
       "      <td>-1.012069</td>\n",
       "    </tr>\n",
       "    <tr>\n",
       "      <th>two</th>\n",
       "      <td>0.127792</td>\n",
       "      <td>-0.803913</td>\n",
       "    </tr>\n",
       "    <tr>\n",
       "      <th rowspan=\"2\" valign=\"top\">foo</th>\n",
       "      <th>one</th>\n",
       "      <td>0.778990</td>\n",
       "      <td>-1.318359</td>\n",
       "    </tr>\n",
       "    <tr>\n",
       "      <th>two</th>\n",
       "      <td>-2.242985</td>\n",
       "      <td>0.145137</td>\n",
       "    </tr>\n",
       "    <tr>\n",
       "      <th rowspan=\"2\" valign=\"top\">qux</th>\n",
       "      <th>one</th>\n",
       "      <td>1.891695</td>\n",
       "      <td>-1.465361</td>\n",
       "    </tr>\n",
       "    <tr>\n",
       "      <th>two</th>\n",
       "      <td>-1.173463</td>\n",
       "      <td>-1.717235</td>\n",
       "    </tr>\n",
       "  </tbody>\n",
       "</table>\n",
       "</div>"
      ],
      "text/plain": [
       "                         A         B\n",
       "primeiro segundo                    \n",
       "bar      one     -0.457245  0.987055\n",
       "         two      0.517845 -0.862467\n",
       "baz      one      0.111652 -1.012069\n",
       "         two      0.127792 -0.803913\n",
       "foo      one      0.778990 -1.318359\n",
       "         two     -2.242985  0.145137\n",
       "qux      one      1.891695 -1.465361\n",
       "         two     -1.173463 -1.717235"
      ]
     },
     "execution_count": 53,
     "metadata": {},
     "output_type": "execute_result"
    }
   ],
   "source": [
    "unstack = stacked.unstack()\n",
    "unstack"
   ]
  },
  {
   "cell_type": "code",
   "execution_count": null,
   "metadata": {},
   "outputs": [],
   "source": []
  }
 ],
 "metadata": {
  "kernelspec": {
   "display_name": "Python 3",
   "language": "python",
   "name": "python3"
  },
  "language_info": {
   "codemirror_mode": {
    "name": "ipython",
    "version": 3
   },
   "file_extension": ".py",
   "mimetype": "text/x-python",
   "name": "python",
   "nbconvert_exporter": "python",
   "pygments_lexer": "ipython3",
   "version": "3.8.3"
  }
 },
 "nbformat": 4,
 "nbformat_minor": 4
}
